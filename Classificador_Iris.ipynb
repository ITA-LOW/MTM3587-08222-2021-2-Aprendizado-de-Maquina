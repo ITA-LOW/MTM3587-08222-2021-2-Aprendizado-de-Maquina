{
  "nbformat": 4,
  "nbformat_minor": 0,
  "metadata": {
    "colab": {
      "name": "Classificador Iris.ipynb",
      "provenance": [],
      "collapsed_sections": [],
      "authorship_tag": "ABX9TyOyiIzquRQT32iYxT8pFBtZ",
      "include_colab_link": true
    },
    "kernelspec": {
      "name": "python3",
      "display_name": "Python 3"
    },
    "language_info": {
      "name": "python"
    }
  },
  "cells": [
    {
      "cell_type": "markdown",
      "metadata": {
        "id": "view-in-github",
        "colab_type": "text"
      },
      "source": [
        "<a href=\"https://colab.research.google.com/github/ITA-LOW/MTM3587-08222-2021-2-Aprendizado-de-Maquina/blob/main/Classificador_Iris.ipynb\" target=\"_parent\"><img src=\"https://colab.research.google.com/assets/colab-badge.svg\" alt=\"Open In Colab\"/></a>"
      ]
    },
    {
      "cell_type": "markdown",
      "source": [
        "#Objetivo\n",
        "Programar uma máquina de aprendizado para realizar a classificação de flores da espécie Iris a partir de dados estatísticos das medidas das pétalas e sépalas."
      ],
      "metadata": {
        "id": "zghJR6Gvpimz"
      }
    },
    {
      "cell_type": "markdown",
      "source": [
        "##Características do Problema\n",
        "1. Aprendizado supervisionado\n",
        " * Como sabemos as medidas de cada espécie de Iris este problema é **supervisionado**\n",
        "2. Classificação\n",
        " * Como queremos escolher uma de muitas espécies de Iris este problema é de **classificação**\n",
        "3. Classe\n",
        " * Cada espécie de Iris pode ser enquadrada em 1 de 3 classes. Versicolor, Setosa e Virginica."
      ],
      "metadata": {
        "id": "tsrIwI-UqAHX"
      }
    },
    {
      "cell_type": "markdown",
      "source": [
        "# 1. Conhecendo o conjunto de dados"
      ],
      "metadata": {
        "id": "xBNik-tFr1Q4"
      }
    },
    {
      "cell_type": "code",
      "execution_count": null,
      "metadata": {
        "id": "VRsqIN8QpK_z"
      },
      "outputs": [],
      "source": [
        "#Importando o conjunto de dados 'load_iris' do módulo datasets do SKlearn\n",
        "from sklearn.datasets import load_iris\n",
        "#criando a instância load_iris\n",
        "iris_dataset=load_iris()"
      ]
    },
    {
      "cell_type": "markdown",
      "source": [
        "O conjunto de dados tem valores guardados em chaves, como num dicionário. Podemos ver quais são as chaves usadas abaixo"
      ],
      "metadata": {
        "id": "I5XpEZIMtKcb"
      }
    },
    {
      "cell_type": "code",
      "source": [
        "print(\"Keys of iris_dataset: \\n{}\".format(iris_dataset.keys()))"
      ],
      "metadata": {
        "colab": {
          "base_uri": "https://localhost:8080/"
        },
        "id": "XLyWfGn-tXvf",
        "outputId": "752f7596-4455-48cb-b49e-994ea389968b"
      },
      "execution_count": null,
      "outputs": [
        {
          "output_type": "stream",
          "name": "stdout",
          "text": [
            "Keys of iris_dataset: \n",
            "dict_keys(['data', 'target', 'frame', 'target_names', 'DESCR', 'feature_names', 'filename', 'data_module'])\n"
          ]
        }
      ]
    },
    {
      "cell_type": "markdown",
      "source": [
        "Cada um dos itens acima carrega informações, podemos acessá-las fazendo:"
      ],
      "metadata": {
        "id": "Oob3u8NLt506"
      }
    },
    {
      "cell_type": "code",
      "source": [
        "print(iris_dataset['DESCR'][:193] + \"\\n...\")\n",
        "print('-'*100)\n",
        "print(iris_dataset['target'])\n",
        "print('-'*100)\n",
        "#é possível verificar todos os atributos"
      ],
      "metadata": {
        "colab": {
          "base_uri": "https://localhost:8080/"
        },
        "id": "uW1ldYrnuIGd",
        "outputId": "5778d8b2-5c42-4475-b752-26bd75f5ed80"
      },
      "execution_count": null,
      "outputs": [
        {
          "output_type": "stream",
          "name": "stdout",
          "text": [
            ".. _iris_dataset:\n",
            "\n",
            "Iris plants dataset\n",
            "--------------------\n",
            "\n",
            "**Data Set Characteristics:**\n",
            "\n",
            "    :Number of Instances: 150 (50 in each of three classes)\n",
            "    :Number of Attributes: 4 numeric, pre\n",
            "...\n",
            "----------------------------------------------------------------------------------------------------\n",
            "[0 0 0 0 0 0 0 0 0 0 0 0 0 0 0 0 0 0 0 0 0 0 0 0 0 0 0 0 0 0 0 0 0 0 0 0 0\n",
            " 0 0 0 0 0 0 0 0 0 0 0 0 0 1 1 1 1 1 1 1 1 1 1 1 1 1 1 1 1 1 1 1 1 1 1 1 1\n",
            " 1 1 1 1 1 1 1 1 1 1 1 1 1 1 1 1 1 1 1 1 1 1 1 1 1 1 2 2 2 2 2 2 2 2 2 2 2\n",
            " 2 2 2 2 2 2 2 2 2 2 2 2 2 2 2 2 2 2 2 2 2 2 2 2 2 2 2 2 2 2 2 2 2 2 2 2 2\n",
            " 2 2]\n",
            "----------------------------------------------------------------------------------------------------\n"
          ]
        }
      ]
    },
    {
      "cell_type": "code",
      "source": [
        "#chamando a função train_test_split\n",
        "from sklearn.model_selection import train_test_split\n",
        "X_train, X_test, y_train, y_test = train_test_split(iris_dataset['data'], iris_dataset['target'], random_state=0)"
      ],
      "metadata": {
        "id": "qub1c-D0xG7m"
      },
      "execution_count": null,
      "outputs": []
    },
    {
      "cell_type": "code",
      "source": [
        "#mosta como ficou a divisão o conjunto de treino\n",
        "#X_train = dados de entrada do conjunto de treino\n",
        "print(\"X_train shape: {}\".format(X_train.shape))\n",
        "#y_train = dados de saída do conjunto de treino (supervisionado)\n",
        "print(\"y_train shape: {}\".format(y_train.shape))"
      ],
      "metadata": {
        "colab": {
          "base_uri": "https://localhost:8080/"
        },
        "id": "N14XmhChuhAn",
        "outputId": "56d5f1e8-8ad0-4db2-94e0-c2d9921d888f"
      },
      "execution_count": null,
      "outputs": [
        {
          "output_type": "stream",
          "name": "stdout",
          "text": [
            "X_train shape: (112, 4)\n",
            "y_train shape: (112,)\n"
          ]
        }
      ]
    },
    {
      "cell_type": "markdown",
      "source": [
        "Como nosso conjunto de dados está no formato de matriz numpy é necessário converter para pandas dataframe para poder gerar gráficos. Gráficos são necessários para conhecer o conjunto de dados."
      ],
      "metadata": {
        "id": "kuAiqgmMy-oo"
      }
    },
    {
      "cell_type": "code",
      "source": [
        "#Criando um dataframe do conjunto de treino (X_train)\n",
        "#As colunas são as features do conjunto\n",
        "iris_dataframe = pd.DataFrame(X_train, columns=iris_dataset.feature_names)\n",
        "#Criando o gráfico de dispersão, as cores são as respostas supervisionadas dadas por cada X da entrada\n",
        "import numpy as np\n",
        "import pandas as pd\n",
        "grr = pd.scatter_matrix(iris_dataframe, c=y_train, figsize=(15, 15), marker='o',hist_kwds={'bins': 20}, s=60, alpha=.8, cmap=mglearn.cm3)"
      ],
      "metadata": {
        "colab": {
          "base_uri": "https://localhost:8080/",
          "height": 321
        },
        "id": "QqzchOVmy-Jw",
        "outputId": "f0e2ac8f-6f25-4524-83d5-0b5b9710e7c3"
      },
      "execution_count": null,
      "outputs": [
        {
          "output_type": "error",
          "ename": "AttributeError",
          "evalue": "ignored",
          "traceback": [
            "\u001b[0;31m---------------------------------------------------------------------------\u001b[0m",
            "\u001b[0;31mAttributeError\u001b[0m                            Traceback (most recent call last)",
            "\u001b[0;32m<ipython-input-71-386ba3ac7747>\u001b[0m in \u001b[0;36m<module>\u001b[0;34m()\u001b[0m\n\u001b[1;32m      5\u001b[0m \u001b[0;32mimport\u001b[0m \u001b[0mnumpy\u001b[0m \u001b[0;32mas\u001b[0m \u001b[0mnp\u001b[0m\u001b[0;34m\u001b[0m\u001b[0;34m\u001b[0m\u001b[0m\n\u001b[1;32m      6\u001b[0m \u001b[0;32mimport\u001b[0m \u001b[0mpandas\u001b[0m \u001b[0;32mas\u001b[0m \u001b[0mpd\u001b[0m\u001b[0;34m\u001b[0m\u001b[0;34m\u001b[0m\u001b[0m\n\u001b[0;32m----> 7\u001b[0;31m \u001b[0mgrr\u001b[0m \u001b[0;34m=\u001b[0m \u001b[0mpd\u001b[0m\u001b[0;34m.\u001b[0m\u001b[0mhist\u001b[0m\u001b[0;34m(\u001b[0m\u001b[0miris_dataframe\u001b[0m\u001b[0;34m,\u001b[0m \u001b[0mc\u001b[0m\u001b[0;34m=\u001b[0m\u001b[0my_train\u001b[0m\u001b[0;34m,\u001b[0m \u001b[0mfigsize\u001b[0m\u001b[0;34m=\u001b[0m\u001b[0;34m(\u001b[0m\u001b[0;36m15\u001b[0m\u001b[0;34m,\u001b[0m \u001b[0;36m15\u001b[0m\u001b[0;34m)\u001b[0m\u001b[0;34m,\u001b[0m \u001b[0mmarker\u001b[0m\u001b[0;34m=\u001b[0m\u001b[0;34m'o'\u001b[0m\u001b[0;34m,\u001b[0m\u001b[0mhist_kwds\u001b[0m\u001b[0;34m=\u001b[0m\u001b[0;34m{\u001b[0m\u001b[0;34m'bins'\u001b[0m\u001b[0;34m:\u001b[0m \u001b[0;36m20\u001b[0m\u001b[0;34m}\u001b[0m\u001b[0;34m,\u001b[0m \u001b[0ms\u001b[0m\u001b[0;34m=\u001b[0m\u001b[0;36m60\u001b[0m\u001b[0;34m,\u001b[0m \u001b[0malpha\u001b[0m\u001b[0;34m=\u001b[0m\u001b[0;36m.8\u001b[0m\u001b[0;34m,\u001b[0m \u001b[0mcmap\u001b[0m\u001b[0;34m=\u001b[0m\u001b[0mmglearn\u001b[0m\u001b[0;34m.\u001b[0m\u001b[0mcm3\u001b[0m\u001b[0;34m)\u001b[0m\u001b[0;34m\u001b[0m\u001b[0;34m\u001b[0m\u001b[0m\n\u001b[0m",
            "\u001b[0;32m/usr/local/lib/python3.7/dist-packages/pandas/__init__.py\u001b[0m in \u001b[0;36m__getattr__\u001b[0;34m(name)\u001b[0m\n\u001b[1;32m    256\u001b[0m             \u001b[0;32mreturn\u001b[0m \u001b[0m_SparseArray\u001b[0m\u001b[0;34m\u001b[0m\u001b[0;34m\u001b[0m\u001b[0m\n\u001b[1;32m    257\u001b[0m \u001b[0;34m\u001b[0m\u001b[0m\n\u001b[0;32m--> 258\u001b[0;31m         \u001b[0;32mraise\u001b[0m \u001b[0mAttributeError\u001b[0m\u001b[0;34m(\u001b[0m\u001b[0;34mf\"module 'pandas' has no attribute '{name}'\"\u001b[0m\u001b[0;34m)\u001b[0m\u001b[0;34m\u001b[0m\u001b[0;34m\u001b[0m\u001b[0m\n\u001b[0m\u001b[1;32m    259\u001b[0m \u001b[0;34m\u001b[0m\u001b[0m\n\u001b[1;32m    260\u001b[0m \u001b[0;34m\u001b[0m\u001b[0m\n",
            "\u001b[0;31mAttributeError\u001b[0m: module 'pandas' has no attribute 'hist'"
          ]
        }
      ]
    },
    {
      "cell_type": "markdown",
      "source": [
        "#2. Construindo o modelo de ML\n",
        "Usarei o algoritmo K-NN, um dos classificadores do sklearn"
      ],
      "metadata": {
        "id": "--zZVbIE2Aqz"
      }
    },
    {
      "cell_type": "code",
      "source": [
        "#chamando o modelo do sklearn\n",
        "from sklearn.neighbors import KNeighborsClassifier\n",
        "#instanciando um objeto neste módulo\n",
        "knn=KNeighborsClassifier(algorithm='auto', leaf_size=30, metric='minkowski',\n",
        " metric_params=None, n_jobs=1, n_neighbors=1, p=2,\n",
        " weights='uniform')\n",
        "#n_neigbors é o principal parâmetro dessa função, nesse caso, vai comparar com 1 vizinho próximo"
      ],
      "metadata": {
        "id": "w89stSzi2NWt"
      },
      "execution_count": null,
      "outputs": []
    },
    {
      "cell_type": "markdown",
      "source": [
        "**O objeto \"knn\" encapsula o algoritmo que será usado para treinar o modelo**"
      ],
      "metadata": {
        "id": "w_VIEXyY3OKd"
      }
    },
    {
      "cell_type": "code",
      "source": [
        "#chamando o método fit para o objeto knn\n",
        "knn.fit(X_train,y_train)\n"
      ],
      "metadata": {
        "colab": {
          "base_uri": "https://localhost:8080/"
        },
        "id": "2LpM4tyC3o-l",
        "outputId": "d3453ad1-b8fb-4adf-a557-f3c97976502e"
      },
      "execution_count": null,
      "outputs": [
        {
          "output_type": "execute_result",
          "data": {
            "text/plain": [
              "KNeighborsClassifier(n_jobs=1, n_neighbors=1)"
            ]
          },
          "metadata": {},
          "execution_count": 47
        }
      ]
    },
    {
      "cell_type": "markdown",
      "source": [
        "#3. Fazendo previsões\n",
        "Vamos incluir um novo dado ao conjunto para ver como a máquina se comporta"
      ],
      "metadata": {
        "id": "i9LM2M-04yts"
      }
    },
    {
      "cell_type": "code",
      "source": [
        "X_new=np.array([[5,2.9,1,0.2]])\n",
        "#print do formato dessa nova amostra\n",
        "print(X_new.shape)\n",
        "#a maquina só aceita dados com uma linha e 4 colunas, está certo"
      ],
      "metadata": {
        "colab": {
          "base_uri": "https://localhost:8080/"
        },
        "id": "-RnN9Umd5AoJ",
        "outputId": "8bf047c0-5559-4540-dc50-e560074d7d95"
      },
      "execution_count": null,
      "outputs": [
        {
          "output_type": "stream",
          "name": "stdout",
          "text": [
            "(1, 4)\n"
          ]
        }
      ]
    },
    {
      "cell_type": "code",
      "source": [
        "#para fazer a predição\n",
        "prediction=knn.predict(X_new)\n",
        "print(iris_dataset['target_names'][prediction])\n",
        "#a maquina prevê como setosa"
      ],
      "metadata": {
        "colab": {
          "base_uri": "https://localhost:8080/"
        },
        "id": "Stax6o_R5qm-",
        "outputId": "a166b273-fa60-4f8e-9862-6be4e4608619"
      },
      "execution_count": null,
      "outputs": [
        {
          "output_type": "stream",
          "name": "stdout",
          "text": [
            "['setosa']\n"
          ]
        }
      ]
    },
    {
      "cell_type": "markdown",
      "source": [
        "#4. Avaliando o modelo\n",
        "Como podemos confiar que a máquina previu com boa exatidão?"
      ],
      "metadata": {
        "id": "gsvfl_Lq6pXM"
      }
    },
    {
      "cell_type": "code",
      "source": [
        "#Vamos ver como o programa se sai prevendo qual será a saída (y) dada a entrada (X)\n",
        "saída_y=knn.predict(X_test)\n",
        "\n",
        "print(iris_dataset['target_names'][saída_y])\n",
        "\n",
        "print(len(saída_y))\n",
        "#são as 38 saídas do conjunto de teste, das 150 amostras, 38(25%) foram separadas para testar o algoritmo"
      ],
      "metadata": {
        "colab": {
          "base_uri": "https://localhost:8080/"
        },
        "id": "gbFxfKgd7MJr",
        "outputId": "00aa31fc-4a96-45ea-f6dc-493b7a894961"
      },
      "execution_count": null,
      "outputs": [
        {
          "output_type": "stream",
          "name": "stdout",
          "text": [
            "['virginica' 'versicolor' 'setosa' 'virginica' 'setosa' 'virginica'\n",
            " 'setosa' 'versicolor' 'versicolor' 'versicolor' 'virginica' 'versicolor'\n",
            " 'versicolor' 'versicolor' 'versicolor' 'setosa' 'versicolor' 'versicolor'\n",
            " 'setosa' 'setosa' 'virginica' 'versicolor' 'setosa' 'setosa' 'virginica'\n",
            " 'setosa' 'setosa' 'versicolor' 'versicolor' 'setosa' 'virginica'\n",
            " 'versicolor' 'setosa' 'virginica' 'virginica' 'versicolor' 'setosa'\n",
            " 'virginica']\n",
            "38\n"
          ]
        }
      ]
    },
    {
      "cell_type": "code",
      "source": [
        "#podemos ver atravéz do score do próprio objeto \"knn\"\n",
        "print(knn.score(X_test,y_test))"
      ],
      "metadata": {
        "colab": {
          "base_uri": "https://localhost:8080/"
        },
        "id": "6zBc_rhX8r38",
        "outputId": "80724b17-cf13-45c2-8e9e-0a1e488ffad3"
      },
      "execution_count": null,
      "outputs": [
        {
          "output_type": "stream",
          "name": "stdout",
          "text": [
            "0.9736842105263158\n"
          ]
        }
      ]
    },
    {
      "cell_type": "markdown",
      "source": [
        "#5. Resumo\n",
        "Para separar o treino e teste\n",
        "\n",
        "    X_train, X_test, y_train, y_test = train_test_split(\n",
        "    iris_dataset['data'], iris_dataset['target'], random_state=0)\n",
        "\n",
        "Para instanciar um objeto\n",
        "\n",
        "    knn = KNeighborsClassifier(n_neighbors=1)\n",
        "\n",
        "Ensinado a máquina qual valor de X retorna y (aprendizagem supervisionada)\n",
        "\n",
        "    knn.fit(X_train, y_train)\n",
        "\n",
        "Testando a máquina no conjunto de teste\n",
        "\n",
        "    saída_y=predict(X_test)\n",
        "\n",
        "Avaliando a performance\n",
        "    \n",
        "    knn.score(X_test,y_test)\n",
        "\n",
        "\n",
        "\n",
        "\n"
      ],
      "metadata": {
        "id": "i6PZjpPN9BFr"
      }
    },
    {
      "cell_type": "markdown",
      "source": [
        "#6. Deploy\n",
        "Faltaria criar um aplicativo que recebe os dados das flores Iris e retorna a espécie a que ela pertence!"
      ],
      "metadata": {
        "id": "lQMBbVoMCBZ8"
      }
    }
  ]
}