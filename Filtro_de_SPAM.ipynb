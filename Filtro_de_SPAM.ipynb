{
  "nbformat": 4,
  "nbformat_minor": 0,
  "metadata": {
    "colab": {
      "name": "Filtro de SPAM.ipynb",
      "provenance": [],
      "authorship_tag": "ABX9TyPcjygJWmIr/1BOpVUhcavr",
      "include_colab_link": true
    },
    "kernelspec": {
      "name": "python3",
      "display_name": "Python 3"
    },
    "language_info": {
      "name": "python"
    }
  },
  "cells": [
    {
      "cell_type": "markdown",
      "metadata": {
        "id": "view-in-github",
        "colab_type": "text"
      },
      "source": [
        "<a href=\"https://colab.research.google.com/github/ITA-LOW/MTM3587-08222-2021-2-Aprendizado-de-Maquina/blob/main/Filtro_de_SPAM.ipynb\" target=\"_parent\"><img src=\"https://colab.research.google.com/assets/colab-badge.svg\" alt=\"Open In Colab\"/></a>"
      ]
    },
    {
      "cell_type": "markdown",
      "source": [
        <center>
        
        ## Mini projeto Naive Bayes e filtro de SPAM
        </center>
      
        <div align=center
    
        "<img src=\"https://www.targethost.com.br/site/wp-content/uploads/2019/12/filtro_antispam.png\" alt=\"logo\" width=\"300\" height=\"150\"
        />
      ],
      "metadata": {
        "id": "CDxAyxzKVNvA"
      }
    },
    {
      "cell_type": "code",
      "source": [
        ""
      ],
      "metadata": {
        "id": "KPCYYX1oaM54"
      },
      "execution_count": null,
      "outputs": []
    }
  ]
}
