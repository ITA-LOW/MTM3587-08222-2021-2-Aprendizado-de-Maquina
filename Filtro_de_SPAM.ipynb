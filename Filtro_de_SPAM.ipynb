{
  "nbformat": 4,
  "nbformat_minor": 0,
  "metadata": {
    "colab": {
      "name": " Filtro de SPAM.ipynb",
      "provenance": [],
      "collapsed_sections": [],
      "authorship_tag": "ABX9TyM9qaOLW7rppfL4aGxWm37t",
      "include_colab_link": true
    },
    "kernelspec": {
      "name": "python3",
      "display_name": "Python 3"
    },
    "language_info": {
      "name": "python"
    }
  },
  "cells": [
    {
      "cell_type": "markdown",
      "metadata": {
        "id": "view-in-github",
        "colab_type": "text"
      },
      "source": [
        "<a href=\"https://colab.research.google.com/github/ITA-LOW/MTM3587-08222-2021-2-Aprendizado-de-Maquina/blob/main/Filtro_de_SPAM.ipynb\" target=\"_parent\"><img src=\"https://colab.research.google.com/assets/colab-badge.svg\" alt=\"Open In Colab\"/></a>"
      ]
    },
    {
      "cell_type": "markdown",
      "source": [
        "\n",
        "\n",
        "# Mini projeto Naive Bayes e filtro de SPAM\n"
      ],
      "metadata": {
        "id": "CDxAyxzKVNvA"
      }
    },
    {
      "cell_type": "markdown",
      "source": [
        "## Objetivos do projeto\n",
        "\n",
        "*   Responder/implementar corretamente todos os tópicos em \"ToDo\";\n",
        "*   Explicar o que significa o \"Bag of Words\";\n",
        "* Explicar a diferença entre especificidade e sensitividade. Dê dois exemplos práticos, uma em que a especificidade parece ser mais adequada do que a sensitividade e vice-versa;\n",
        "* Implementar o Naive Bayes conforme indica o roteiro e comparar com um (1) dos algoritmos vistos no ML tour, justificando a escolha do melhor modelo. É para comparar o Naive Bayes com um e apenas um algoritmo;\n",
        "* Você deverá fazer uma lista dos prós e contras do Naive Bayes e do algoritmo escolhido. Você deve explicar o resultado obtido com base nas características dos dois algoritmos avaliado. Você teria algum insight relevante para me apresentar?\n",
        "\n"
      ],
      "metadata": {
        "id": "nprl1rMmgrMe"
      }
    },
    {
      "cell_type": "markdown",
      "source": [
        "## Roteiro\n",
        "\n",
        "1. Conceito de \"Bag of Words\".\n",
        "2. Conceito de especificidade e sensibilidade.\n",
        "1. Análise exploratória do conjunto de dados.\n",
        "1. Exemplo de aplicação do BoW.\n",
        "3. Implementando o algoritmo Naive Bayes ao conjunto de dados.\n",
        "1. Apresentação do Teorema de Naive Bayes.\n",
        "1. Aplicando o Naive Bayes ao projeto Filtro de SPAM.\n",
        "1. Avaliando o modelo.\n",
        "1. Comparando o Naive Bayes com a Árvore de decisão.\n",
        "1. Conclusão.\n",
        "1. Referência.\n",
        "\n",
        "\n",
        "\n",
        "\n"
      ],
      "metadata": {
        "id": "flDYM20Oi0zB"
      }
    },
    {
      "cell_type": "markdown",
      "source": [
        "# 1. Conceito de \"Bag of Words\"\n",
        "A maioria dos algoritmos de aprendizado de máquina usa números como dados de entrada e mensagens de e-mail ou sms são basicamente dados de texto. A ideia do \"Bag of Words\" é separar cada palavra do conjunto de dados e contar a frequência com que elas aparecem retornando, assim, um número para nosso algoritmo.\n",
        "O processo para implementar o BoW é converter o conjunto de dados em uma matriz, onde cada palavra (token) é uma coluna e cada mensagem é uma linha. Para realizar essa implementação será usada o método count vectorizer da biblioteca sklearn."
      ],
      "metadata": {
        "id": "QKdNdMYjlW8D"
      }
    },
    {
      "cell_type": "markdown",
      "source": [
        "## 2. Conceito de Especificidade e Sensibilidade"
      ],
      "metadata": {
        "id": "qiRx0qXupq8a"
      }
    },
    {
      "cell_type": "markdown",
      "source": [
        "* <h3> 2.1 Especificidade<h3>\n",
        "\n",
        "Especificidade é uma métrica que nos mostra a capacidade de um algoritmo de detectar corretamente um verdadeiro negativo. No caso do nosso conjunto de dados, ele mede a capacidade do algoritmo de detectar corretamente se a mensagem recebidade é \"ham\". A especificidade pode ser obtida fazendo a razão: $$ \\frac {VN}{VN+FP}\\ $$ onde:\n",
        "\n",
        "VN = Verdadeiro negativo (a mensagem é \"ham\")\n",
        "\n",
        "FP = Falso positivo (o classificador errou por identificar a mensagem como \"ham\")\n",
        "\n"
      ],
      "metadata": {
        "id": "RvCiH5QDOuER"
      }
    },
    {
      "cell_type": "markdown",
      "source": [
        "* <h3> 2.2 Sensibilidade<h3>\n",
        "\n",
        "Sensibilidade é uma métrica que avalia a capacidade do algoritmo de detectar com sucesso resultados classificados como verdadeiro positivo. No caso do nosso conjunto de dados, mede a capacidade do algoritmo de detectar se uma mensagem foi corretamente classificada como SPAM. A sensibilidade pode ser obtida atravéz da razão: $$ \\frac{VP}{VP+FN}\\ $$ onde:\n",
        "\n",
        "VP = Verdadeiro positivo (a mensagem é SPAM)\n",
        "\n",
        "FN = Falso negativo (o classificador errou por identificar uma mensagem como SPAM)\n",
        "\n"
      ],
      "metadata": {
        "id": "Xxwj23E8O16F"
      }
    },
    {
      "cell_type": "markdown",
      "source": [
        "No contexto deste projeto, a métrica \"sensibilidade\" parece ser mais adequada já que o que se espera desse algoritmo é uma boa relação entre a quantidade de mensagens corretamente classificadas como SPAM em face ao conjunto das mensagens que de fato são SPAM e que foram erroneamente classificadas como (VP+FN).\n",
        "\n",
        "Por outro lado, um caso onde é mais vantajoso usar a métrica \"especificidade\" para medir a eficiência do algoritmo seria quando se quer identificar situações onde a maioria dos dados é verdadeira negativa."
      ],
      "metadata": {
        "id": "gYChyeE_O-JW"
      }
    },
    {
      "cell_type": "markdown",
      "source": [
        "# 3. Análise exploratória do conjunto de dados\n",
        "Vamos iniciar trazendo o dataset a ser trabalhado obtido do repositório https://github.com/udacity/machine-learning/blob/master/projects/practice_projects/naive_bayes_tutorial/Bayesian_Inference.ipynb para o dataframe."
      ],
      "metadata": {
        "id": "I6WYKoWx0egR"
      }
    },
    {
      "cell_type": "code",
      "source": [
        "import pandas as pd\n",
        "df=pd.read_table('/content/SMSSpamCollection', sep=\"\\t\", header=None, names=['Tipo', 'Conteudo'])\n",
        "\n",
        "df.head()"
      ],
      "metadata": {
        "id": "K7rU--tU2KSI",
        "colab": {
          "base_uri": "https://localhost:8080/",
          "height": 204
        },
        "outputId": "3ec6dc85-2ad6-4563-ec0b-9bd06f81bdb2"
      },
      "execution_count": null,
      "outputs": [
        {
          "output_type": "execute_result",
          "data": {
            "text/html": [
              "\n",
              "  <div id=\"df-74d5357b-6411-4fae-9544-1f80d3adc4f5\">\n",
              "    <div class=\"colab-df-container\">\n",
              "      <div>\n",
              "<style scoped>\n",
              "    .dataframe tbody tr th:only-of-type {\n",
              "        vertical-align: middle;\n",
              "    }\n",
              "\n",
              "    .dataframe tbody tr th {\n",
              "        vertical-align: top;\n",
              "    }\n",
              "\n",
              "    .dataframe thead th {\n",
              "        text-align: right;\n",
              "    }\n",
              "</style>\n",
              "<table border=\"1\" class=\"dataframe\">\n",
              "  <thead>\n",
              "    <tr style=\"text-align: right;\">\n",
              "      <th></th>\n",
              "      <th>Tipo</th>\n",
              "      <th>Conteudo</th>\n",
              "    </tr>\n",
              "  </thead>\n",
              "  <tbody>\n",
              "    <tr>\n",
              "      <th>0</th>\n",
              "      <td>ham</td>\n",
              "      <td>Go until jurong point, crazy.. Available only ...</td>\n",
              "    </tr>\n",
              "    <tr>\n",
              "      <th>1</th>\n",
              "      <td>ham</td>\n",
              "      <td>Ok lar... Joking wif u oni...</td>\n",
              "    </tr>\n",
              "    <tr>\n",
              "      <th>2</th>\n",
              "      <td>spam</td>\n",
              "      <td>Free entry in 2 a wkly comp to win FA Cup fina...</td>\n",
              "    </tr>\n",
              "    <tr>\n",
              "      <th>3</th>\n",
              "      <td>ham</td>\n",
              "      <td>U dun say so early hor... U c already then say...</td>\n",
              "    </tr>\n",
              "    <tr>\n",
              "      <th>4</th>\n",
              "      <td>ham</td>\n",
              "      <td>Nah I don't think he goes to usf, he lives aro...</td>\n",
              "    </tr>\n",
              "  </tbody>\n",
              "</table>\n",
              "</div>\n",
              "      <button class=\"colab-df-convert\" onclick=\"convertToInteractive('df-74d5357b-6411-4fae-9544-1f80d3adc4f5')\"\n",
              "              title=\"Convert this dataframe to an interactive table.\"\n",
              "              style=\"display:none;\">\n",
              "        \n",
              "  <svg xmlns=\"http://www.w3.org/2000/svg\" height=\"24px\"viewBox=\"0 0 24 24\"\n",
              "       width=\"24px\">\n",
              "    <path d=\"M0 0h24v24H0V0z\" fill=\"none\"/>\n",
              "    <path d=\"M18.56 5.44l.94 2.06.94-2.06 2.06-.94-2.06-.94-.94-2.06-.94 2.06-2.06.94zm-11 1L8.5 8.5l.94-2.06 2.06-.94-2.06-.94L8.5 2.5l-.94 2.06-2.06.94zm10 10l.94 2.06.94-2.06 2.06-.94-2.06-.94-.94-2.06-.94 2.06-2.06.94z\"/><path d=\"M17.41 7.96l-1.37-1.37c-.4-.4-.92-.59-1.43-.59-.52 0-1.04.2-1.43.59L10.3 9.45l-7.72 7.72c-.78.78-.78 2.05 0 2.83L4 21.41c.39.39.9.59 1.41.59.51 0 1.02-.2 1.41-.59l7.78-7.78 2.81-2.81c.8-.78.8-2.07 0-2.86zM5.41 20L4 18.59l7.72-7.72 1.47 1.35L5.41 20z\"/>\n",
              "  </svg>\n",
              "      </button>\n",
              "      \n",
              "  <style>\n",
              "    .colab-df-container {\n",
              "      display:flex;\n",
              "      flex-wrap:wrap;\n",
              "      gap: 12px;\n",
              "    }\n",
              "\n",
              "    .colab-df-convert {\n",
              "      background-color: #E8F0FE;\n",
              "      border: none;\n",
              "      border-radius: 50%;\n",
              "      cursor: pointer;\n",
              "      display: none;\n",
              "      fill: #1967D2;\n",
              "      height: 32px;\n",
              "      padding: 0 0 0 0;\n",
              "      width: 32px;\n",
              "    }\n",
              "\n",
              "    .colab-df-convert:hover {\n",
              "      background-color: #E2EBFA;\n",
              "      box-shadow: 0px 1px 2px rgba(60, 64, 67, 0.3), 0px 1px 3px 1px rgba(60, 64, 67, 0.15);\n",
              "      fill: #174EA6;\n",
              "    }\n",
              "\n",
              "    [theme=dark] .colab-df-convert {\n",
              "      background-color: #3B4455;\n",
              "      fill: #D2E3FC;\n",
              "    }\n",
              "\n",
              "    [theme=dark] .colab-df-convert:hover {\n",
              "      background-color: #434B5C;\n",
              "      box-shadow: 0px 1px 3px 1px rgba(0, 0, 0, 0.15);\n",
              "      filter: drop-shadow(0px 1px 2px rgba(0, 0, 0, 0.3));\n",
              "      fill: #FFFFFF;\n",
              "    }\n",
              "  </style>\n",
              "\n",
              "      <script>\n",
              "        const buttonEl =\n",
              "          document.querySelector('#df-74d5357b-6411-4fae-9544-1f80d3adc4f5 button.colab-df-convert');\n",
              "        buttonEl.style.display =\n",
              "          google.colab.kernel.accessAllowed ? 'block' : 'none';\n",
              "\n",
              "        async function convertToInteractive(key) {\n",
              "          const element = document.querySelector('#df-74d5357b-6411-4fae-9544-1f80d3adc4f5');\n",
              "          const dataTable =\n",
              "            await google.colab.kernel.invokeFunction('convertToInteractive',\n",
              "                                                     [key], {});\n",
              "          if (!dataTable) return;\n",
              "\n",
              "          const docLinkHtml = 'Like what you see? Visit the ' +\n",
              "            '<a target=\"_blank\" href=https://colab.research.google.com/notebooks/data_table.ipynb>data table notebook</a>'\n",
              "            + ' to learn more about interactive tables.';\n",
              "          element.innerHTML = '';\n",
              "          dataTable['output_type'] = 'display_data';\n",
              "          await google.colab.output.renderOutput(dataTable, element);\n",
              "          const docLink = document.createElement('div');\n",
              "          docLink.innerHTML = docLinkHtml;\n",
              "          element.appendChild(docLink);\n",
              "        }\n",
              "      </script>\n",
              "    </div>\n",
              "  </div>\n",
              "  "
            ],
            "text/plain": [
              "   Tipo                                           Conteudo\n",
              "0   ham  Go until jurong point, crazy.. Available only ...\n",
              "1   ham                      Ok lar... Joking wif u oni...\n",
              "2  spam  Free entry in 2 a wkly comp to win FA Cup fina...\n",
              "3   ham  U dun say so early hor... U c already then say...\n",
              "4   ham  Nah I don't think he goes to usf, he lives aro..."
            ]
          },
          "metadata": {},
          "execution_count": 242
        }
      ]
    },
    {
      "cell_type": "markdown",
      "source": [
        "Podemos notar que o \"Tipo\" da mensagem é literal, como podemos classificar em binário (SPAM/não-SPAM) vamos tratar esse dado do dataset como 0-\"ham\" e 1-SPAM."
      ],
      "metadata": {
        "id": "ZcQpLi4L6Iwj"
      }
    },
    {
      "cell_type": "code",
      "source": [
        "df['Tipo']=df.Tipo.map({'ham':0,'spam':1})\n",
        "\n",
        "df.head()"
      ],
      "metadata": {
        "colab": {
          "base_uri": "https://localhost:8080/",
          "height": 204
        },
        "id": "i3ozanA06iNd",
        "outputId": "abb44240-8f65-4aaf-9240-79ba6b0e7739"
      },
      "execution_count": null,
      "outputs": [
        {
          "output_type": "execute_result",
          "data": {
            "text/html": [
              "\n",
              "  <div id=\"df-971d9c3f-47c7-4111-9a55-ffa25f594563\">\n",
              "    <div class=\"colab-df-container\">\n",
              "      <div>\n",
              "<style scoped>\n",
              "    .dataframe tbody tr th:only-of-type {\n",
              "        vertical-align: middle;\n",
              "    }\n",
              "\n",
              "    .dataframe tbody tr th {\n",
              "        vertical-align: top;\n",
              "    }\n",
              "\n",
              "    .dataframe thead th {\n",
              "        text-align: right;\n",
              "    }\n",
              "</style>\n",
              "<table border=\"1\" class=\"dataframe\">\n",
              "  <thead>\n",
              "    <tr style=\"text-align: right;\">\n",
              "      <th></th>\n",
              "      <th>Tipo</th>\n",
              "      <th>Conteudo</th>\n",
              "    </tr>\n",
              "  </thead>\n",
              "  <tbody>\n",
              "    <tr>\n",
              "      <th>0</th>\n",
              "      <td>0</td>\n",
              "      <td>Go until jurong point, crazy.. Available only ...</td>\n",
              "    </tr>\n",
              "    <tr>\n",
              "      <th>1</th>\n",
              "      <td>0</td>\n",
              "      <td>Ok lar... Joking wif u oni...</td>\n",
              "    </tr>\n",
              "    <tr>\n",
              "      <th>2</th>\n",
              "      <td>1</td>\n",
              "      <td>Free entry in 2 a wkly comp to win FA Cup fina...</td>\n",
              "    </tr>\n",
              "    <tr>\n",
              "      <th>3</th>\n",
              "      <td>0</td>\n",
              "      <td>U dun say so early hor... U c already then say...</td>\n",
              "    </tr>\n",
              "    <tr>\n",
              "      <th>4</th>\n",
              "      <td>0</td>\n",
              "      <td>Nah I don't think he goes to usf, he lives aro...</td>\n",
              "    </tr>\n",
              "  </tbody>\n",
              "</table>\n",
              "</div>\n",
              "      <button class=\"colab-df-convert\" onclick=\"convertToInteractive('df-971d9c3f-47c7-4111-9a55-ffa25f594563')\"\n",
              "              title=\"Convert this dataframe to an interactive table.\"\n",
              "              style=\"display:none;\">\n",
              "        \n",
              "  <svg xmlns=\"http://www.w3.org/2000/svg\" height=\"24px\"viewBox=\"0 0 24 24\"\n",
              "       width=\"24px\">\n",
              "    <path d=\"M0 0h24v24H0V0z\" fill=\"none\"/>\n",
              "    <path d=\"M18.56 5.44l.94 2.06.94-2.06 2.06-.94-2.06-.94-.94-2.06-.94 2.06-2.06.94zm-11 1L8.5 8.5l.94-2.06 2.06-.94-2.06-.94L8.5 2.5l-.94 2.06-2.06.94zm10 10l.94 2.06.94-2.06 2.06-.94-2.06-.94-.94-2.06-.94 2.06-2.06.94z\"/><path d=\"M17.41 7.96l-1.37-1.37c-.4-.4-.92-.59-1.43-.59-.52 0-1.04.2-1.43.59L10.3 9.45l-7.72 7.72c-.78.78-.78 2.05 0 2.83L4 21.41c.39.39.9.59 1.41.59.51 0 1.02-.2 1.41-.59l7.78-7.78 2.81-2.81c.8-.78.8-2.07 0-2.86zM5.41 20L4 18.59l7.72-7.72 1.47 1.35L5.41 20z\"/>\n",
              "  </svg>\n",
              "      </button>\n",
              "      \n",
              "  <style>\n",
              "    .colab-df-container {\n",
              "      display:flex;\n",
              "      flex-wrap:wrap;\n",
              "      gap: 12px;\n",
              "    }\n",
              "\n",
              "    .colab-df-convert {\n",
              "      background-color: #E8F0FE;\n",
              "      border: none;\n",
              "      border-radius: 50%;\n",
              "      cursor: pointer;\n",
              "      display: none;\n",
              "      fill: #1967D2;\n",
              "      height: 32px;\n",
              "      padding: 0 0 0 0;\n",
              "      width: 32px;\n",
              "    }\n",
              "\n",
              "    .colab-df-convert:hover {\n",
              "      background-color: #E2EBFA;\n",
              "      box-shadow: 0px 1px 2px rgba(60, 64, 67, 0.3), 0px 1px 3px 1px rgba(60, 64, 67, 0.15);\n",
              "      fill: #174EA6;\n",
              "    }\n",
              "\n",
              "    [theme=dark] .colab-df-convert {\n",
              "      background-color: #3B4455;\n",
              "      fill: #D2E3FC;\n",
              "    }\n",
              "\n",
              "    [theme=dark] .colab-df-convert:hover {\n",
              "      background-color: #434B5C;\n",
              "      box-shadow: 0px 1px 3px 1px rgba(0, 0, 0, 0.15);\n",
              "      filter: drop-shadow(0px 1px 2px rgba(0, 0, 0, 0.3));\n",
              "      fill: #FFFFFF;\n",
              "    }\n",
              "  </style>\n",
              "\n",
              "      <script>\n",
              "        const buttonEl =\n",
              "          document.querySelector('#df-971d9c3f-47c7-4111-9a55-ffa25f594563 button.colab-df-convert');\n",
              "        buttonEl.style.display =\n",
              "          google.colab.kernel.accessAllowed ? 'block' : 'none';\n",
              "\n",
              "        async function convertToInteractive(key) {\n",
              "          const element = document.querySelector('#df-971d9c3f-47c7-4111-9a55-ffa25f594563');\n",
              "          const dataTable =\n",
              "            await google.colab.kernel.invokeFunction('convertToInteractive',\n",
              "                                                     [key], {});\n",
              "          if (!dataTable) return;\n",
              "\n",
              "          const docLinkHtml = 'Like what you see? Visit the ' +\n",
              "            '<a target=\"_blank\" href=https://colab.research.google.com/notebooks/data_table.ipynb>data table notebook</a>'\n",
              "            + ' to learn more about interactive tables.';\n",
              "          element.innerHTML = '';\n",
              "          dataTable['output_type'] = 'display_data';\n",
              "          await google.colab.output.renderOutput(dataTable, element);\n",
              "          const docLink = document.createElement('div');\n",
              "          docLink.innerHTML = docLinkHtml;\n",
              "          element.appendChild(docLink);\n",
              "        }\n",
              "      </script>\n",
              "    </div>\n",
              "  </div>\n",
              "  "
            ],
            "text/plain": [
              "   Tipo                                           Conteudo\n",
              "0     0  Go until jurong point, crazy.. Available only ...\n",
              "1     0                      Ok lar... Joking wif u oni...\n",
              "2     1  Free entry in 2 a wkly comp to win FA Cup fina...\n",
              "3     0  U dun say so early hor... U c already then say...\n",
              "4     0  Nah I don't think he goes to usf, he lives aro..."
            ]
          },
          "metadata": {},
          "execution_count": 243
        }
      ]
    },
    {
      "cell_type": "markdown",
      "source": [
        "Para saber como é este dataset utilizamos o parâmetro shape do método df."
      ],
      "metadata": {
        "id": "CO9k1n8d7w5R"
      }
    },
    {
      "cell_type": "code",
      "source": [
        "print(df.shape)"
      ],
      "metadata": {
        "colab": {
          "base_uri": "https://localhost:8080/"
        },
        "id": "_vPlqiNs8EtI",
        "outputId": "91f3aaf9-5b8a-4d0d-89bd-f08ba3164978"
      },
      "execution_count": null,
      "outputs": [
        {
          "output_type": "stream",
          "name": "stdout",
          "text": [
            "(5572, 2)\n"
          ]
        }
      ]
    },
    {
      "cell_type": "markdown",
      "source": [
        "Este dataset tem 5572 mensagens e apenas as colunas \"Tipo\" e \"Conteúdo\"."
      ],
      "metadata": {
        "id": "6BpTU8EM8Gyi"
      }
    },
    {
      "cell_type": "markdown",
      "source": [
        "A próxima etapa é a de implementação do BoW. O BoW consiste em uma fase de limpeza e preparação dos dados utilizando o método CountVectorizer do Sklearn porém antes de continuar a análise exploratória dos dados faremos uma apresentação didática de como esse método funciona no exemplo abaixo."
      ],
      "metadata": {
        "id": "C02nFc4R_01e"
      }
    },
    {
      "cell_type": "markdown",
      "source": [
        "# 4. Exemplo da aplicação do BoW:\n",
        "Vamos usar o seguinte dataset como exemplo:\n",
        "\n",
        "    documento = ['Olá, como vai!',\n",
        "                'Ganhe dinheiro perto de Florianópolis!',\n",
        "                'Me ligue agora, urgente!',\n",
        "                'Olá, posso te ligar amanhã?']\n",
        "\n"
      ],
      "metadata": {
        "id": "RNQB1ZnPEmpo"
      }
    },
    {
      "cell_type": "markdown",
      "source": [
        "###Convertendo as palavras para minúsculas!"
      ],
      "metadata": {
        "id": "lSoCsSqLGV4i"
      }
    },
    {
      "cell_type": "code",
      "source": [
        "documento=['Olá, como vai!',\n",
        "            'Ganhe dinheiro perto de Florianópolis!',\n",
        "            'Me ligue agora, urgente!',\n",
        "            'Olá, posso te ligar amanhã?']\n",
        "documento_caixa_baixa=[]\n",
        "for i in documento:\n",
        "  documento_caixa_baixa.append(i.lower())\n",
        "print(documento_caixa_baixa)\n",
        "\n"
      ],
      "metadata": {
        "colab": {
          "base_uri": "https://localhost:8080/"
        },
        "id": "86YRtjJWGetN",
        "outputId": "687f796f-cba6-449e-a68b-3a4baad1e3c8"
      },
      "execution_count": null,
      "outputs": [
        {
          "output_type": "stream",
          "name": "stdout",
          "text": [
            "['olá, como vai!', 'ganhe dinheiro perto de florianópolis!', 'me ligue agora, urgente!', 'olá, posso te ligar amanhã?']\n"
          ]
        }
      ]
    },
    {
      "cell_type": "markdown",
      "source": [
        "###Removendo a pontuação da lista \"documento_caixa_baixa\"!"
      ],
      "metadata": {
        "id": "11q4i3qDIzp3"
      }
    },
    {
      "cell_type": "code",
      "source": [
        "doc_sem_ponto=[]\n",
        "import string\n",
        "for i in documento_caixa_baixa:\n",
        "  doc_sem_ponto.append(i.translate(str.maketrans(' ',' ',string.punctuation)))\n",
        "print(doc_sem_ponto)"
      ],
      "metadata": {
        "colab": {
          "base_uri": "https://localhost:8080/"
        },
        "id": "ygNWVGcSJBKj",
        "outputId": "36aa15d7-91f1-43f0-f50d-51417ec388f0"
      },
      "execution_count": null,
      "outputs": [
        {
          "output_type": "stream",
          "name": "stdout",
          "text": [
            "['olá como vai', 'ganhe dinheiro perto de florianópolis', 'me ligue agora urgente', 'olá posso te ligar amanhã']\n"
          ]
        }
      ]
    },
    {
      "cell_type": "markdown",
      "source": [
        "###Realizando a \"tokenização\"\n",
        "Tokenizar consiste em dividir a mensagem em palavras atravéz de um delimitador (nesse caso o \"espaço\") o qual delimitará o que é o início e o fim de uma palavra."
      ],
      "metadata": {
        "id": "CDWcelK7J2DA"
      }
    },
    {
      "cell_type": "code",
      "source": [
        "doc_token=[]\n",
        "for i in doc_sem_ponto:\n",
        "  doc_token.append(i.split(' '))\n",
        "print(doc_token)"
      ],
      "metadata": {
        "colab": {
          "base_uri": "https://localhost:8080/"
        },
        "id": "ysqRQ90lKpvE",
        "outputId": "3d142321-2635-40c3-cdb4-2b9cfb165433"
      },
      "execution_count": null,
      "outputs": [
        {
          "output_type": "stream",
          "name": "stdout",
          "text": [
            "[['olá', 'como', 'vai'], ['ganhe', 'dinheiro', 'perto', 'de', 'florianópolis'], ['me', 'ligue', 'agora', 'urgente'], ['olá', 'posso', 'te', 'ligar', 'amanhã']]\n"
          ]
        }
      ]
    },
    {
      "cell_type": "markdown",
      "source": [
        "###Contando palavras\n",
        "Nesta etapa, será implementado o método Counter() que conta a frequencia que ocorre cada palavra dentro da mensagem."
      ],
      "metadata": {
        "id": "p6OAjFRnLwXE"
      }
    },
    {
      "cell_type": "code",
      "source": [
        "frequencia=[]\n",
        "import pprint\n",
        "from collections import Counter\n",
        "\n",
        "for i in doc_token:\n",
        "  frequencia_ocorrida=Counter(i)\n",
        "  frequencia.append(frequencia_ocorrida)\n",
        "pprint.pprint(frequencia)\n"
      ],
      "metadata": {
        "colab": {
          "base_uri": "https://localhost:8080/"
        },
        "id": "fBke_qgfMWWE",
        "outputId": "54086d32-eec3-468a-cda0-5c69bcc82c16"
      },
      "execution_count": null,
      "outputs": [
        {
          "output_type": "stream",
          "name": "stdout",
          "text": [
            "[Counter({'olá': 1, 'como': 1, 'vai': 1}),\n",
            " Counter({'ganhe': 1, 'dinheiro': 1, 'perto': 1, 'de': 1, 'florianópolis': 1}),\n",
            " Counter({'me': 1, 'ligue': 1, 'agora': 1, 'urgente': 1}),\n",
            " Counter({'olá': 1, 'posso': 1, 'te': 1, 'ligar': 1, 'amanhã': 1})]\n"
          ]
        }
      ]
    },
    {
      "cell_type": "markdown",
      "source": [
        "Com isso o conceito de BoW foi corretamente aplicado"
      ],
      "metadata": {
        "id": "UtgQuPv-NcUf"
      }
    },
    {
      "cell_type": "markdown",
      "source": [
        "###Implementando o BoW com Sklearn\n",
        "Agora, tendo assimilado o que ocorre ao fazer a limpeza e tratamento do dataset utilizando o conceito de BoW, farei a implementação desse método nativo da biblioteca Sklearn no mesmo documento inicial."
      ],
      "metadata": {
        "id": "Eif_lf0SNkyb"
      }
    },
    {
      "cell_type": "code",
      "source": [
        "#importando o método criando a instância vetor_contador\n",
        "from sklearn.feature_extraction.text import CountVectorizer\n",
        "vetor_contador = CountVectorizer()"
      ],
      "metadata": {
        "id": "1ue0-fmvOj-Q"
      },
      "execution_count": null,
      "outputs": []
    },
    {
      "cell_type": "code",
      "source": [
        "#Ajustando o dataset \"documento\" ao método CountVectorizer()\n",
        "vetor_contador.fit(documento)\n",
        "\n",
        "#Obtendo uma lista do que será usado como característica (colunas)\n",
        "vetor_contador.get_feature_names()"
      ],
      "metadata": {
        "colab": {
          "base_uri": "https://localhost:8080/"
        },
        "id": "-qRX2u3mQ3yA",
        "outputId": "ed5077c1-b341-4668-80f1-36134446c0a4"
      },
      "execution_count": null,
      "outputs": [
        {
          "output_type": "stream",
          "name": "stderr",
          "text": [
            "/usr/local/lib/python3.7/dist-packages/sklearn/utils/deprecation.py:87: FutureWarning: Function get_feature_names is deprecated; get_feature_names is deprecated in 1.0 and will be removed in 1.2. Please use get_feature_names_out instead.\n",
            "  warnings.warn(msg, category=FutureWarning)\n"
          ]
        },
        {
          "output_type": "execute_result",
          "data": {
            "text/plain": [
              "['agora',\n",
              " 'amanhã',\n",
              " 'como',\n",
              " 'de',\n",
              " 'dinheiro',\n",
              " 'florianópolis',\n",
              " 'ganhe',\n",
              " 'ligar',\n",
              " 'ligue',\n",
              " 'me',\n",
              " 'olá',\n",
              " 'perto',\n",
              " 'posso',\n",
              " 'te',\n",
              " 'urgente',\n",
              " 'vai']"
            ]
          },
          "metadata": {},
          "execution_count": 250
        }
      ]
    },
    {
      "cell_type": "code",
      "source": [
        "#Converto o dataset numa matriz onde cada linha é uma mensagem (já tratada) e cada coluna é uma característica (vista ao passar o método .get_feature_names())\n",
        "matriz_doc=vetor_contador.transform(documento).toarray()\n",
        "matriz_doc"
      ],
      "metadata": {
        "colab": {
          "base_uri": "https://localhost:8080/"
        },
        "id": "4r8q9VVDSlbk",
        "outputId": "51b1be23-0ca5-4387-cccd-bd8ea21a9723"
      },
      "execution_count": null,
      "outputs": [
        {
          "output_type": "execute_result",
          "data": {
            "text/plain": [
              "array([[0, 0, 1, 0, 0, 0, 0, 0, 0, 0, 1, 0, 0, 0, 0, 1],\n",
              "       [0, 0, 0, 1, 1, 1, 1, 0, 0, 0, 0, 1, 0, 0, 0, 0],\n",
              "       [1, 0, 0, 0, 0, 0, 0, 0, 1, 1, 0, 0, 0, 0, 1, 0],\n",
              "       [0, 1, 0, 0, 0, 0, 0, 1, 0, 0, 1, 0, 1, 1, 0, 0]])"
            ]
          },
          "metadata": {},
          "execution_count": 251
        }
      ]
    },
    {
      "cell_type": "code",
      "source": [
        "#Finalmente, para melhor visualização, será criado um dataframe unindo essa matriz obtida com as características \n",
        "matriz_final = pd.DataFrame(matriz_doc, columns=vetor_contador.get_feature_names())\n",
        "\n",
        "matriz_final"
      ],
      "metadata": {
        "colab": {
          "base_uri": "https://localhost:8080/",
          "height": 227
        },
        "id": "_3p3ZmZDS7DQ",
        "outputId": "4b3263f2-2c05-4409-87ad-ab6bc0fc6ab2"
      },
      "execution_count": null,
      "outputs": [
        {
          "output_type": "stream",
          "name": "stderr",
          "text": [
            "/usr/local/lib/python3.7/dist-packages/sklearn/utils/deprecation.py:87: FutureWarning: Function get_feature_names is deprecated; get_feature_names is deprecated in 1.0 and will be removed in 1.2. Please use get_feature_names_out instead.\n",
            "  warnings.warn(msg, category=FutureWarning)\n"
          ]
        },
        {
          "output_type": "execute_result",
          "data": {
            "text/html": [
              "\n",
              "  <div id=\"df-b3469de1-4397-490c-a54e-6e08921d1303\">\n",
              "    <div class=\"colab-df-container\">\n",
              "      <div>\n",
              "<style scoped>\n",
              "    .dataframe tbody tr th:only-of-type {\n",
              "        vertical-align: middle;\n",
              "    }\n",
              "\n",
              "    .dataframe tbody tr th {\n",
              "        vertical-align: top;\n",
              "    }\n",
              "\n",
              "    .dataframe thead th {\n",
              "        text-align: right;\n",
              "    }\n",
              "</style>\n",
              "<table border=\"1\" class=\"dataframe\">\n",
              "  <thead>\n",
              "    <tr style=\"text-align: right;\">\n",
              "      <th></th>\n",
              "      <th>agora</th>\n",
              "      <th>amanhã</th>\n",
              "      <th>como</th>\n",
              "      <th>de</th>\n",
              "      <th>dinheiro</th>\n",
              "      <th>florianópolis</th>\n",
              "      <th>ganhe</th>\n",
              "      <th>ligar</th>\n",
              "      <th>ligue</th>\n",
              "      <th>me</th>\n",
              "      <th>olá</th>\n",
              "      <th>perto</th>\n",
              "      <th>posso</th>\n",
              "      <th>te</th>\n",
              "      <th>urgente</th>\n",
              "      <th>vai</th>\n",
              "    </tr>\n",
              "  </thead>\n",
              "  <tbody>\n",
              "    <tr>\n",
              "      <th>0</th>\n",
              "      <td>0</td>\n",
              "      <td>0</td>\n",
              "      <td>1</td>\n",
              "      <td>0</td>\n",
              "      <td>0</td>\n",
              "      <td>0</td>\n",
              "      <td>0</td>\n",
              "      <td>0</td>\n",
              "      <td>0</td>\n",
              "      <td>0</td>\n",
              "      <td>1</td>\n",
              "      <td>0</td>\n",
              "      <td>0</td>\n",
              "      <td>0</td>\n",
              "      <td>0</td>\n",
              "      <td>1</td>\n",
              "    </tr>\n",
              "    <tr>\n",
              "      <th>1</th>\n",
              "      <td>0</td>\n",
              "      <td>0</td>\n",
              "      <td>0</td>\n",
              "      <td>1</td>\n",
              "      <td>1</td>\n",
              "      <td>1</td>\n",
              "      <td>1</td>\n",
              "      <td>0</td>\n",
              "      <td>0</td>\n",
              "      <td>0</td>\n",
              "      <td>0</td>\n",
              "      <td>1</td>\n",
              "      <td>0</td>\n",
              "      <td>0</td>\n",
              "      <td>0</td>\n",
              "      <td>0</td>\n",
              "    </tr>\n",
              "    <tr>\n",
              "      <th>2</th>\n",
              "      <td>1</td>\n",
              "      <td>0</td>\n",
              "      <td>0</td>\n",
              "      <td>0</td>\n",
              "      <td>0</td>\n",
              "      <td>0</td>\n",
              "      <td>0</td>\n",
              "      <td>0</td>\n",
              "      <td>1</td>\n",
              "      <td>1</td>\n",
              "      <td>0</td>\n",
              "      <td>0</td>\n",
              "      <td>0</td>\n",
              "      <td>0</td>\n",
              "      <td>1</td>\n",
              "      <td>0</td>\n",
              "    </tr>\n",
              "    <tr>\n",
              "      <th>3</th>\n",
              "      <td>0</td>\n",
              "      <td>1</td>\n",
              "      <td>0</td>\n",
              "      <td>0</td>\n",
              "      <td>0</td>\n",
              "      <td>0</td>\n",
              "      <td>0</td>\n",
              "      <td>1</td>\n",
              "      <td>0</td>\n",
              "      <td>0</td>\n",
              "      <td>1</td>\n",
              "      <td>0</td>\n",
              "      <td>1</td>\n",
              "      <td>1</td>\n",
              "      <td>0</td>\n",
              "      <td>0</td>\n",
              "    </tr>\n",
              "  </tbody>\n",
              "</table>\n",
              "</div>\n",
              "      <button class=\"colab-df-convert\" onclick=\"convertToInteractive('df-b3469de1-4397-490c-a54e-6e08921d1303')\"\n",
              "              title=\"Convert this dataframe to an interactive table.\"\n",
              "              style=\"display:none;\">\n",
              "        \n",
              "  <svg xmlns=\"http://www.w3.org/2000/svg\" height=\"24px\"viewBox=\"0 0 24 24\"\n",
              "       width=\"24px\">\n",
              "    <path d=\"M0 0h24v24H0V0z\" fill=\"none\"/>\n",
              "    <path d=\"M18.56 5.44l.94 2.06.94-2.06 2.06-.94-2.06-.94-.94-2.06-.94 2.06-2.06.94zm-11 1L8.5 8.5l.94-2.06 2.06-.94-2.06-.94L8.5 2.5l-.94 2.06-2.06.94zm10 10l.94 2.06.94-2.06 2.06-.94-2.06-.94-.94-2.06-.94 2.06-2.06.94z\"/><path d=\"M17.41 7.96l-1.37-1.37c-.4-.4-.92-.59-1.43-.59-.52 0-1.04.2-1.43.59L10.3 9.45l-7.72 7.72c-.78.78-.78 2.05 0 2.83L4 21.41c.39.39.9.59 1.41.59.51 0 1.02-.2 1.41-.59l7.78-7.78 2.81-2.81c.8-.78.8-2.07 0-2.86zM5.41 20L4 18.59l7.72-7.72 1.47 1.35L5.41 20z\"/>\n",
              "  </svg>\n",
              "      </button>\n",
              "      \n",
              "  <style>\n",
              "    .colab-df-container {\n",
              "      display:flex;\n",
              "      flex-wrap:wrap;\n",
              "      gap: 12px;\n",
              "    }\n",
              "\n",
              "    .colab-df-convert {\n",
              "      background-color: #E8F0FE;\n",
              "      border: none;\n",
              "      border-radius: 50%;\n",
              "      cursor: pointer;\n",
              "      display: none;\n",
              "      fill: #1967D2;\n",
              "      height: 32px;\n",
              "      padding: 0 0 0 0;\n",
              "      width: 32px;\n",
              "    }\n",
              "\n",
              "    .colab-df-convert:hover {\n",
              "      background-color: #E2EBFA;\n",
              "      box-shadow: 0px 1px 2px rgba(60, 64, 67, 0.3), 0px 1px 3px 1px rgba(60, 64, 67, 0.15);\n",
              "      fill: #174EA6;\n",
              "    }\n",
              "\n",
              "    [theme=dark] .colab-df-convert {\n",
              "      background-color: #3B4455;\n",
              "      fill: #D2E3FC;\n",
              "    }\n",
              "\n",
              "    [theme=dark] .colab-df-convert:hover {\n",
              "      background-color: #434B5C;\n",
              "      box-shadow: 0px 1px 3px 1px rgba(0, 0, 0, 0.15);\n",
              "      filter: drop-shadow(0px 1px 2px rgba(0, 0, 0, 0.3));\n",
              "      fill: #FFFFFF;\n",
              "    }\n",
              "  </style>\n",
              "\n",
              "      <script>\n",
              "        const buttonEl =\n",
              "          document.querySelector('#df-b3469de1-4397-490c-a54e-6e08921d1303 button.colab-df-convert');\n",
              "        buttonEl.style.display =\n",
              "          google.colab.kernel.accessAllowed ? 'block' : 'none';\n",
              "\n",
              "        async function convertToInteractive(key) {\n",
              "          const element = document.querySelector('#df-b3469de1-4397-490c-a54e-6e08921d1303');\n",
              "          const dataTable =\n",
              "            await google.colab.kernel.invokeFunction('convertToInteractive',\n",
              "                                                     [key], {});\n",
              "          if (!dataTable) return;\n",
              "\n",
              "          const docLinkHtml = 'Like what you see? Visit the ' +\n",
              "            '<a target=\"_blank\" href=https://colab.research.google.com/notebooks/data_table.ipynb>data table notebook</a>'\n",
              "            + ' to learn more about interactive tables.';\n",
              "          element.innerHTML = '';\n",
              "          dataTable['output_type'] = 'display_data';\n",
              "          await google.colab.output.renderOutput(dataTable, element);\n",
              "          const docLink = document.createElement('div');\n",
              "          docLink.innerHTML = docLinkHtml;\n",
              "          element.appendChild(docLink);\n",
              "        }\n",
              "      </script>\n",
              "    </div>\n",
              "  </div>\n",
              "  "
            ],
            "text/plain": [
              "   agora  amanhã  como  de  dinheiro  ...  perto  posso  te  urgente  vai\n",
              "0      0       0     1   0         0  ...      0      0   0        0    1\n",
              "1      0       0     0   1         1  ...      1      0   0        0    0\n",
              "2      1       0     0   0         0  ...      0      0   0        1    0\n",
              "3      0       1     0   0         0  ...      0      1   1        0    0\n",
              "\n",
              "[4 rows x 16 columns]"
            ]
          },
          "metadata": {},
          "execution_count": 252
        }
      ]
    },
    {
      "cell_type": "markdown",
      "source": [
        "Com isso, finalizamos a apresentação de como aplicar o BoW num dataset. Voltamos ao problema: preparar um filtro anti-SPAM ao conjunto de dados adquirido inicialmente."
      ],
      "metadata": {
        "id": "hocb620Nkn0Y"
      }
    },
    {
      "cell_type": "markdown",
      "source": [
        "#5. Implementando o algoritmo Naive Bayes ao conjunto de dados"
      ],
      "metadata": {
        "id": "M0JAqnaSlJgf"
      }
    },
    {
      "cell_type": "code",
      "source": [
        "#Dividindo o conjunto em treino e teste\n",
        "from sklearn.model_selection import train_test_split\n",
        "X_train, X_test, y_train, y_test = train_test_split(df['Conteudo'], \n",
        "                                                    df['Tipo'], \n",
        "                                                    random_state=1)\n",
        "print('Total de linhas em todo o conjunto: {}'.format(df.shape[0]))\n",
        "print('Total de linhas no conjunto de treino: {}'.format(X_train.shape[0]))\n",
        "print('Total de linhas no conjunto de teste: {}'.format(X_test.shape[0]))"
      ],
      "metadata": {
        "colab": {
          "base_uri": "https://localhost:8080/"
        },
        "id": "gzm_J2M5lhKb",
        "outputId": "7253b168-bac6-458f-b60b-914baf6156d9"
      },
      "execution_count": null,
      "outputs": [
        {
          "output_type": "stream",
          "name": "stdout",
          "text": [
            "Total de linhas em todo o conjunto: 5572\n",
            "Total de linhas no conjunto de treino: 4179\n",
            "Total de linhas no conjunto de teste: 1393\n"
          ]
        }
      ]
    },
    {
      "cell_type": "markdown",
      "source": [
        "###Aplicando o BoW nos conjuntos de treino e teste"
      ],
      "metadata": {
        "id": "cUbLdvmXnL9V"
      }
    },
    {
      "cell_type": "code",
      "source": [
        "#Instanciando o vetor_contador\n",
        "vetor_contador=CountVectorizer()\n",
        "\n",
        "#Ajustando os dados de treino para retornar uma matriz\n",
        "dados_treino=vetor_contador.fit_transform(X_train) \n",
        "\n",
        "#Ajustando os dados de teste para retornar uma matriz\n",
        "dados_teste=vetor_contador.transform(X_test)\n"
      ],
      "metadata": {
        "id": "vioJR1zknRQa"
      },
      "execution_count": null,
      "outputs": []
    },
    {
      "cell_type": "markdown",
      "source": [
        "#6. Apresentação do Teorema de Naive Bayes\n",
        "Agora que temos o dataset no formato que precisamos será introduzido teorema de Bayes. O teorema de Naive Bayes calcula a probabilidade de um evento acontecer baseado na ocorrência de outros eventos relacionados a ele. \n",
        "\n",
        "Será usado como exemplo o cálculo da probabilidade de um indivíduo ter Diabetes dado que foi testado positivo.\n",
        "\n",
        "Os seguintes dados serão assumidos:\n",
        "\n",
        "**P(D)** é a probabilidade de uma pessoa ter Diabetes. Assume-se que 1% da população geral tem Diabetes;\n",
        "\n",
        "**P(POS)** é a probabilidade de um resultado positivo no teste;\n",
        "\n",
        "**P(NEG)** é a probabilidade de um resultado negativo no teste;\n",
        "\n",
        "**P(POS|D)** é a probabilidade de dar positivo no teste e o indíviduo realmente ter Diabetes(verdadeiro positivo). Esse valor também é chamado de *sensibilidade*. O teste acerta 90% das vezes.\n",
        "\n",
        "**P(NEG|~D)** é a probabilidade de dar negativo no teste e o indivíduo não ter Diabetes. Esse valor também é chamado de *especificidade*. Neste caso, o teste também acerta 90% das vezes.\n",
        "\n",
        "A fórmula de Bayes é a seguinte: $$ P(A|B)= \\frac {P(B|A) P(A)}{P(B)}\\ $$ onde:\n",
        "\n",
        "$P(A|B)$ é a probabilidade de ocorrer $A$ dado $B$. No exemplo, esse é o valor de o indivíduo ter Diabete dado que o resultado do seu teste foi positivo. Esse é o valor buscado.\n",
        "\n",
        "$P(B|A)$ é a probabilidade de ocorrer $B$ dado $A$. No exemplo, esse é o valor da *sensibilidade*, ou seja, o teste do indíviduo ter dado positivo e ele realmente ter Diabetes. Esse valor é 90%.\n",
        "\n",
        "$P(A)$ é a probabilidade de ocorrer o evento $A$, neste exemplo, é a probabilidade de o indivíduo ter Diabetes independente de qualquer outro dado. Assumimos que a população no geral tem 1% de chance de ter Diabetes.\n",
        "\n",
        "$P(B)$ é a probabilidade de ocorrer o evento $B$, neste exemplo, é a probabilidade do teste de um indíviduo dar positivo independente de qualquer outro dado.\n",
        "\n",
        "Substituindo na fórmula de Naive Bayes:\n",
        "\n",
        "$$P(D|POS)= \\frac {P(POS|D) P(D)}{P(POS)}\\ $$\n",
        "\n",
        "A probabilidade do teste dar positivo ($P(POS)$) pode ser calculada usando a especificidade e sensibilidade: $$P(POS)=[P(D)\\times(sensibilidade)+P(nãoD)\\times(1-especificidade)]\\ $$\n",
        "\n",
        "\n"
      ],
      "metadata": {
        "id": "LRgXYb2lr3_P"
      }
    },
    {
      "cell_type": "code",
      "source": [
        "#P(D)\n",
        "p_d=0.01\n",
        "\n",
        "#P(~D)\n",
        "p_nd=0.99\n",
        "\n",
        "#sensibilidade ou P(POS|D)\n",
        "pos_d=0.9\n",
        "\n",
        "#especificidade ou P(NEG|~D)\n",
        "neg_d=0.9\n",
        "\n",
        "p_pos = (p_d*pos_d) + (p_nd*(1 - neg_d))\n",
        "\n",
        "print('A probabilidade de ocorrer um resultado positivo em um indivíduo qualquer é {}'.format(p_pos))"
      ],
      "metadata": {
        "colab": {
          "base_uri": "https://localhost:8080/"
        },
        "id": "FByOEDo_4ZGY",
        "outputId": "09749a9c-537e-4a0b-db89-bb78ebfa7621"
      },
      "execution_count": null,
      "outputs": [
        {
          "output_type": "stream",
          "name": "stdout",
          "text": [
            "A probabilidade de ocorrer um resultado positivo em um indivíduo qualquer é 0.10799999999999998\n"
          ]
        }
      ]
    },
    {
      "cell_type": "code",
      "source": [
        "#A probabilidade de um indivíduo ter Diabetes dado que obteve um resultado positivo no teste\n",
        "p_d_pos=(p_d*pos_d)/p_pos\n",
        "print('A probabilidade de ocorrer um verdadeiro positivo é {}'.format(p_d_pos))"
      ],
      "metadata": {
        "colab": {
          "base_uri": "https://localhost:8080/"
        },
        "id": "dNVjNlEI8inf",
        "outputId": "c807a74c-de07-4df1-b965-bd6f65f4208c"
      },
      "execution_count": null,
      "outputs": [
        {
          "output_type": "stream",
          "name": "stdout",
          "text": [
            "A probabilidade de ocorrer um verdadeiro positivo é 0.08333333333333336\n"
          ]
        }
      ]
    },
    {
      "cell_type": "code",
      "source": [
        "#A probabilidade de um indivíduo não ter Diabetes dado que seu resultado foi positivo\n",
        "nd_pos=p_nd*(1-neg_d)/p_pos\n",
        "print('A probabilidade de ocorrer um falso positivo é {}'.format(nd_pos))"
      ],
      "metadata": {
        "colab": {
          "base_uri": "https://localhost:8080/"
        },
        "id": "JQCkMfEs9Vd4",
        "outputId": "c3cb463b-8849-4f60-9d4d-cf17934bacc9"
      },
      "execution_count": null,
      "outputs": [
        {
          "output_type": "stream",
          "name": "stdout",
          "text": [
            "A probabilidade de ocorrer um falso positivo é 0.9166666666666666\n"
          ]
        }
      ]
    },
    {
      "cell_type": "markdown",
      "source": [
        "Com isso, terminamos a apresentação do Teorema de Naive Bayes"
      ],
      "metadata": {
        "id": "W5PaU_lh_Awv"
      }
    },
    {
      "cell_type": "markdown",
      "source": [
        "#7. Aplicando o Naive Bayes ao projeto Filtro de SPAM\n",
        "Já temos os 2 conjuntos de treino e teste alcançados no item 5 deste trabalho. Vamos ajustar esses 2 conjuntos ao classificador MultinomialNB."
      ],
      "metadata": {
        "id": "5VVM4Y20_wIW"
      }
    },
    {
      "cell_type": "code",
      "source": [
        "#Chamando o método MultinomialNB\n",
        "from sklearn.naive_bayes import MultinomialNB\n",
        "#Instanciando o método como naive_bayes\n",
        "naive_bayes = MultinomialNB()\n",
        "naive_bayes.fit(dados_treino, y_train)"
      ],
      "metadata": {
        "colab": {
          "base_uri": "https://localhost:8080/"
        },
        "id": "WJFKRxWMAjO2",
        "outputId": "e28c0994-fa29-49bb-bf57-d75f2df8bc4d"
      },
      "execution_count": null,
      "outputs": [
        {
          "output_type": "execute_result",
          "data": {
            "text/plain": [
              "MultinomialNB()"
            ]
          },
          "metadata": {},
          "execution_count": 258
        }
      ]
    },
    {
      "cell_type": "code",
      "source": [
        "predicao = naive_bayes.predict(dados_teste)"
      ],
      "metadata": {
        "id": "RIOEWSJCBO6h"
      },
      "execution_count": null,
      "outputs": []
    },
    {
      "cell_type": "markdown",
      "source": [
        "#8. Avaliando o modelo\n",
        "A avaliação será feita utilizando o conjunto de teste e a predição que foi feita e armazenada na variável \"predicao\""
      ],
      "metadata": {
        "id": "ZGLFkdhREMZm"
      }
    },
    {
      "cell_type": "code",
      "source": [
        "from sklearn.metrics import accuracy_score, precision_score, recall_score, f1_score\n",
        "acuracia = accuracy_score(y_test, predicao)\n",
        "especificidade = precision_score(y_test, predicao)\n",
        "sensibilidade = recall_score(y_test, predicao)\n",
        "f1 = f1_score(y_test, predicao)\n",
        "\n",
        "print('Acuracia: ',acuracia)\n",
        "print('Especificidade:',especificidade)\n",
        "print('Sensibilidade:',sensibilidade)\n",
        "print('Média harmônica entre Especificidade e Sensibilidade:',f1)"
      ],
      "metadata": {
        "colab": {
          "base_uri": "https://localhost:8080/"
        },
        "id": "ApQ6JjxNFAJC",
        "outputId": "2f1983c0-d9d4-4a81-fa76-58837d8a2bc5"
      },
      "execution_count": null,
      "outputs": [
        {
          "output_type": "stream",
          "name": "stdout",
          "text": [
            "Acuracia:  0.9885139985642498\n",
            "Especificidade: 0.9720670391061452\n",
            "Sensibilidade: 0.9405405405405406\n",
            "Média harmônica entre Especificidade e Sensibilidade: 0.9560439560439562\n"
          ]
        }
      ]
    },
    {
      "cell_type": "markdown",
      "source": [
        "#9. Comparando o Naive Bayes com a Árvore de decisão.\n",
        "Farei uma rápida comparação com o algoritmo de árvore de decisão para testar sua performance."
      ],
      "metadata": {
        "id": "PVyrzQnLOh4h"
      }
    },
    {
      "cell_type": "code",
      "source": [
        "from sklearn.tree import DecisionTreeClassifier\n",
        "arvore_decisao=DecisionTreeClassifier()\n",
        "arvore_decisao\n",
        "arvore_decisao.fit(dados_treino, y_train)\n",
        "predicao_tree = arvore_decisao.predict(dados_teste)\n",
        "\n",
        "#Avaliando o modelo\n",
        "acuracia_tree = accuracy_score(y_test, predicao_tree)\n",
        "especificidade_tree = precision_score(y_test, predicao_tree)\n",
        "sensibilidade_tree = recall_score(y_test, predicao_tree)\n",
        "f1_tree = f1_score(y_test, predicao_tree)\n",
        "\n",
        "print(acuracia_tree,\n",
        "      especificidade_tree,\n",
        "      sensibilidade_tree,\n",
        "      f1_tree)"
      ],
      "metadata": {
        "colab": {
          "base_uri": "https://localhost:8080/"
        },
        "id": "-kaoYUg7Ozdy",
        "outputId": "4b6c7cde-47fb-4d70-d7e4-83a7f747b342"
      },
      "execution_count": null,
      "outputs": [
        {
          "output_type": "stream",
          "name": "stdout",
          "text": [
            "0.9626704953338119 0.844559585492228 0.8810810810810811 0.8624338624338624\n"
          ]
        }
      ]
    },
    {
      "cell_type": "markdown",
      "source": [
        "Apesar de ser necessário um aprofundamento no algoritmo de árvore de decisão, com essa pequena amostra é possível ver uma diferença relevante.\n",
        "Em comparação, esses dois algoritmos apresentam prós e contras:\n",
        "<center>\n",
        "<h1>Naive Bayes\n",
        "\n",
        "</center>\n",
        "\n",
        "* Prós:\n",
        " * Fácil implementação\n",
        " * Rápido e simples\n",
        " * Resistente a ruído: caso de datasets com muitos outliers, muitas características correlatas... O algoritmo consegue ignorar esses ruídos pois trata as features (características) independentemente (por isso o nome Naive)\n",
        " * Se ajusta bem a grandes conjuntos de dados\n",
        "\n",
        "* Contras: \n",
        " * Não performa bem com features que dependem umas das outras\n",
        " * Performa estritamente bem em algoritmos de classificação, tendo perda de eficiência em datasets numéricos\n",
        " * Comportamento tendencioso: por tratar as características de maneira independente pode ocorrer que uma delas influencie no resultado de maneira irreal.\n",
        "\n",
        "<center>\n",
        "<h1>Árvore de decisão\n",
        "\n",
        "</center>\n",
        "\n",
        "* Prós:\n",
        " * Requer menos etapas de preparação dos dados\n",
        " * Valores faltantes não afetam o processo de construção do algoritmo\n",
        " * Não é necessário fazer dimensionamento dos dados, tornando fácil sua implementação\n",
        "\n",
        "* Contras:\n",
        " * É instável: poucas mudanças nos dados podem acarretar em grandes diferenças\n",
        " * Pode ser muito complexo dependendo do caso\n",
        " * É inadequado para prever regressão e valores contínuos (numéricos)\n",
        "\n"
      ],
      "metadata": {
        "id": "XqBmeH_uSLJ5"
      }
    },
    {
      "cell_type": "markdown",
      "source": [
        "#10. Conclusão\n",
        "Diante dessas informações acredito que o filtro de SPAM performaria melhor com o Naive Bayes de fato. Obteve uma performance melhor, é mais claro de se entender. Além disso, as características do conjunto de dados se encaixam melhor modo de funcionamento do algoritmo."
      ],
      "metadata": {
        "id": "pKhtkooVh3kB"
      }
    },
    {
      "cell_type": "markdown",
      "source": [
        "#11. Referências\n",
        "1. https://github.com/udacity/machine-learning/tree/master/projects/practice_projects/naive_bayes_tutorial\n",
        "1. MTM3587-08222 (20212) - Aprendizado da Máquina\n",
        "1. https://dhirajkumarblog.medium.com/top-5-advantages-and-disadvantages-of-decision-tree-algorithm-428ebd199d9a\n",
        "1. https://holypython.com/nbc/naive-bayes-pros-cons/\n",
        "1. Introduction to machine learning with Python\n",
        "\n",
        "```\n",
        "# Isto está formatado como código\n",
        "```\n",
        "\n"
      ],
      "metadata": {
        "id": "0Bs_IoPhiZje"
      }
    },
    {
      "cell_type": "markdown",
      "source": [
        "#Seguindo o roteiro foi possível:\n",
        "* Responder/implementar corretamente todos os tópicos em \"ToDo\" ✔\n",
        "*   Explicar o que significa o \"Bag of Words\" ✔\n",
        "* Explicar a diferença entre especificidade e sensitividade. Dê dois exemplos práticos, uma em que a especificidade parece ser mais adequada do que a sensitividade e vice-versa ✔\n",
        "* Implementar o Naive Bayes conforme indica o roteiro e comparar com um (1) dos algoritmos vistos no ML tour, justificando a escolha do melhor modelo. É para comparar o Naive Bayes com um e apenas um algoritmo ✔\n",
        "* Você deverá fazer uma lista dos prós e contras do Naive Bayes e do algoritmo escolhido. Você deve explicar o resultado obtido com base nas características dos dois algoritmos avaliado. ✔"
      ],
      "metadata": {
        "id": "mCAaq1eJjmCp"
      }
    }
  ]
}